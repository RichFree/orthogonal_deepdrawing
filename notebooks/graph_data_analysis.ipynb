{
 "cells": [
  {
   "cell_type": "code",
   "execution_count": 1,
   "metadata": {},
   "outputs": [],
   "source": [
    "import networkx as nx \n",
    "import matplotlib.pyplot as plt\n",
    "import json\n",
    "from utils import *\n",
    "import pandas as pd\n",
    "import numpy as np\n",
    "import pickle as pkl\n",
    "from collections import defaultdict\n",
    "\n",
    "import shutil"
   ]
  },
  {
   "cell_type": "code",
   "execution_count": 2,
   "metadata": {},
   "outputs": [
    {
     "name": "stdout",
     "output_type": "stream",
     "text": [
      "/home/richard/pkgs/deepdrawing\n"
     ]
    }
   ],
   "source": [
    "!pwd"
   ]
  },
  {
   "cell_type": "code",
   "execution_count": 3,
   "metadata": {},
   "outputs": [],
   "source": [
    "output = \"n6e12\"\n",
    "\n",
    "dataset = []\n",
    "for root, dirs, files in os.walk(f\"main_data_folder/data/store/output_{output}/\"):\n",
    "    for file_name in files:\n",
    "        file_path = os.path.join(root, file_name)\n",
    "        with open(file_path, \"rb\") as f:\n",
    "            g = pkl.load(f)\n",
    "            dataset.append(g)\n"
   ]
  },
  {
   "cell_type": "code",
   "execution_count": 4,
   "metadata": {},
   "outputs": [
    {
     "data": {
      "text/plain": [
       "10000"
      ]
     },
     "execution_count": 4,
     "metadata": {},
     "output_type": "execute_result"
    }
   ],
   "source": [
    "len(dataset)"
   ]
  },
  {
   "cell_type": "code",
   "execution_count": 5,
   "metadata": {},
   "outputs": [],
   "source": [
    "len_list = []\n",
    "for g in dataset:\n",
    "    len_list.append(g['len'])\n"
   ]
  },
  {
   "cell_type": "code",
   "execution_count": 6,
   "metadata": {},
   "outputs": [
    {
     "data": {
      "text/plain": [
       "19    6810\n",
       "18    2393\n",
       "17     611\n",
       "20     186\n",
       "Name: count, dtype: int64"
      ]
     },
     "execution_count": 6,
     "metadata": {},
     "output_type": "execute_result"
    }
   ],
   "source": [
    "pd.DataFrame(len_list).value_counts()"
   ]
  },
  {
   "cell_type": "code",
   "execution_count": 7,
   "metadata": {},
   "outputs": [],
   "source": [
    "filter_list = [ i for i in range(len(len_list)) if len_list[i]==19]"
   ]
  },
  {
   "cell_type": "markdown",
   "metadata": {},
   "source": [
    "# Idea: only transfer graphs with same number of nodes"
   ]
  },
  {
   "cell_type": "code",
   "execution_count": 8,
   "metadata": {},
   "outputs": [
    {
     "name": "stdout",
     "output_type": "stream",
     "text": [
      "5448 6129 6810\n"
     ]
    }
   ],
   "source": [
    "size = len(filter_list)\n",
    "part1 = int(80/100 * size)\n",
    "part2 = int(part1 + 10/100 * size)\n",
    "part3 = int(part2 + 10/100 * size)\n",
    "print(part1, part2, part3)\n"
   ]
  },
  {
   "cell_type": "code",
   "execution_count": 9,
   "metadata": {},
   "outputs": [],
   "source": [
    "# clear folders\n",
    "for type in [\"train\", \"test\", \"valid\"]:\n",
    "    for root, dirs, files in os.walk(f\"main_data_folder/data/ortho_{type}_dataset_folder_preprocess/\"):\n",
    "        for file_name in files:\n",
    "            file_path = os.path.join(root, file_name)\n",
    "            if os.path.isfile(file_path):\n",
    "                #print(f\"removing file: {file_path}\")\n",
    "                os.remove(file_path)\n",
    "\n"
   ]
  },
  {
   "cell_type": "code",
   "execution_count": 10,
   "metadata": {},
   "outputs": [],
   "source": [
    "\n",
    "# for num in filter_list[:part1 - 1]:\n",
    "for num in filter_list[:800]:\n",
    "    shutil.copy2(f\"main_data_folder/data/store/output_n6e12/output_graphn6e12s150i{num}planar\",\n",
    "                 f\"main_data_folder/data/ortho_train_dataset_folder_preprocess/\")\n",
    "\n",
    "# for num in filter_list[part1:part2 - 1]:\n",
    "for num in filter_list[800:900]:\n",
    "    shutil.copy2(f\"main_data_folder/data/store/output_n6e12/output_graphn6e12s150i{num}planar\",\n",
    "                 f\"main_data_folder/data/ortho_test_dataset_folder_preprocess/\")\n",
    "\n",
    "# for num in filter_list[part2:part3 - 1]:\n",
    "for num in filter_list[900:1000]:\n",
    "    shutil.copy2(f\"main_data_folder/data/store/output_n6e12/output_graphn6e12s150i{num}planar\",\n",
    "                 f\"main_data_folder/data/ortho_valid_dataset_folder_preprocess/\")"
   ]
  },
  {
   "cell_type": "markdown",
   "metadata": {},
   "source": [
    "# Draw illustrations of isolated graph types"
   ]
  },
  {
   "cell_type": "code",
   "execution_count": 100,
   "metadata": {},
   "outputs": [],
   "source": [
    "from data import inv_transform_nodelist\n",
    "from test import transform_pos\n",
    "\n",
    "\n",
    "for num in filter_list[:100]:\n",
    "    with open(f\"main_data_folder/data/store/output_n6e12/output_graphn6e12s150i{num}planar\" ,\"rb\") as f:\n",
    "        g = pkl.load(f)\n",
    "\n",
    "    \n",
    "    ori = g['ori']\n",
    "    y_input = g[\"pos\"]\n",
    "    y_selected = y_input[g[\"x_ridx\"],:]\n",
    "    bounding_box = {}\n",
    "    bounding_box['left'] = 0\n",
    "    bounding_box['right'] = 300\n",
    "    bounding_box['top'] = 0\n",
    "    bounding_box['bottom'] = 300\n",
    "\n",
    "\n",
    "    pos_ori = inv_transform_nodelist(y_selected,bounding_box,1)\n",
    "    pos_ori = np.array(pos_ori)\n",
    "    pos_ori, real_scale_cof = transform_pos(pos_ori,100,100,700,700)\n",
    "\n",
    "    visualize(pos_ori, ori=ori, name=f\"test_{num}\", mode=2, test_folder=\"main_data_folder/drawings/\")"
   ]
  },
  {
   "cell_type": "markdown",
   "metadata": {},
   "source": [
    "# Idea: isolate graphs with same number of nodes AND number of edges"
   ]
  },
  {
   "cell_type": "code",
   "execution_count": 50,
   "metadata": {},
   "outputs": [],
   "source": [
    "len_edge_list = []\n",
    "for g in dataset:\n",
    "    len_edge_list.append(len(g['ori']['linelist']))\n"
   ]
  },
  {
   "cell_type": "code",
   "execution_count": 52,
   "metadata": {},
   "outputs": [],
   "source": [
    "filter_list = [ i for i in range(len(len_list)) if len_list[i]==19]"
   ]
  },
  {
   "cell_type": "code",
   "execution_count": 55,
   "metadata": {},
   "outputs": [],
   "source": [
    "len_edge_filtered_list = [ len_edge_list[i] for i in filter_list ]"
   ]
  },
  {
   "cell_type": "code",
   "execution_count": 56,
   "metadata": {},
   "outputs": [
    {
     "data": {
      "text/plain": [
       "50    6810\n",
       "Name: count, dtype: int64"
      ]
     },
     "execution_count": 56,
     "metadata": {},
     "output_type": "execute_result"
    }
   ],
   "source": [
    "pd.DataFrame(len_edge_filtered_list).value_counts()"
   ]
  },
  {
   "cell_type": "markdown",
   "metadata": {},
   "source": [
    "Verdict: its not enough to separate graphs of similar nodes as their order is different"
   ]
  },
  {
   "cell_type": "markdown",
   "metadata": {},
   "source": [
    "# Idea: Use "
   ]
  },
  {
   "cell_type": "code",
   "execution_count": 58,
   "metadata": {},
   "outputs": [],
   "source": [
    "# edge contains (node1, node2), where node = [x,y]\n",
    "def get_direction(edge):\n",
    "    node1 = edge[0]\n",
    "    node2 = edge[1]\n",
    "\n",
    "    if abs(node1[0] - node2[0]) < 0.1:\n",
    "        return \"vertical\"\n",
    "    elif abs(node1[1] - node2[1]) < 0.1:\n",
    "        return \"horizontal\"\n",
    "    else:\n",
    "        return \"don't know\""
   ]
  },
  {
   "cell_type": "code",
   "execution_count": 59,
   "metadata": {},
   "outputs": [],
   "source": [
    "def get_bend_points(edge_path):\n",
    "    bend_points = []\n",
    "    prev_direction = \"\"\n",
    "    for i in range(len(edge_path)):\n",
    "        # exit condition\n",
    "        if (i == len(edge_path) - 1):\n",
    "            break;\n",
    "        \n",
    "        # compute current edge direction\n",
    "        current_path = (edge_path[i], edge_path[i+1])\n",
    "        direction = get_direction(current_path)\n",
    "    \n",
    "        if (i == 0):\n",
    "            prev_direction = direction\n",
    "        if (i > 0):\n",
    "            if ((prev_direction == \"vertical\" and direction == \"horizontal\") or \n",
    "                (prev_direction == \"horizontal\" and direction == \"vertical\")):\n",
    "                bend_points.append(edge_path[i])\n",
    "            # set the current direction to be prev for next iteration\n",
    "            prev_direction = direction\n",
    "\n",
    "    return bend_points\n",
    "        \n"
   ]
  },
  {
   "cell_type": "code",
   "execution_count": 60,
   "metadata": {},
   "outputs": [],
   "source": [
    "## function to produce modified graph\n",
    "\n",
    "def create_graph(data):\n",
    "\n",
    "    G = nx.DiGraph()\n",
    "\n",
    "    # read in actual nodes first\n",
    "    node_coordinate = {}\n",
    "    # first, add the real nodes\n",
    "    for node_obj in data['nodes']:\n",
    "        identity = node_obj['id']\n",
    "        G.add_node(identity)\n",
    "        node_coordinate[identity] = (node_obj['x'], node_obj['y'], 0)\n",
    "\n",
    "    # create virtual nodes to split an edge\n",
    "    node_counter = G.number_of_nodes() -1  # node_id starts from 0\n",
    "    for edge in data['edges']:\n",
    "        source = edge['source']\n",
    "        target = edge['target']\n",
    "        # full_points_list = [list(node_coordinate[source][0:3])] + edge['path'] + [list(node_coordinate[target][0:3])]\n",
    "        full_points_list = edge['path']\n",
    "        # get all bend points only - ignore other points\n",
    "        bend_points_list = get_bend_points(full_points_list)\n",
    "        num_points = len(bend_points_list) \n",
    "        # connect from real node to first intermediate node\n",
    "        inter = source\n",
    "        if num_points == 0:\n",
    "            G.add_edge(source, target)\n",
    "            # add reverse edge\n",
    "            G.add_edge(target, source)\n",
    "        else:\n",
    "            for i in range(num_points):\n",
    "                current_node = bend_points_list[i]\n",
    "                node_counter = node_counter + 1\n",
    "                G.add_node(node_counter)\n",
    "                node_coordinate[node_counter] = (current_node[0], current_node[1], 1)\n",
    "                G.add_edge(inter, node_counter)\n",
    "                # add reverse edge\n",
    "                G.add_edge(node_counter, inter)\n",
    "                inter = node_counter\n",
    "            # last edge\n",
    "            G.add_edge(inter, target)\n",
    "            # add reverse edge\n",
    "            G.add_edge(target, inter)\n",
    "            \n",
    "    # start of nodelist generation\n",
    "    nodelist = []\n",
    "\n",
    "    for node_id in G.nodes:\n",
    "        # main nodes\n",
    "        if node_coordinate[node_id][2] == 0:\n",
    "            node_group = 0\n",
    "            r = 5\n",
    "            fill = 'blue'\n",
    "        # bend nodes\n",
    "        elif node_coordinate[node_id][2] == 1:\n",
    "            node_group = 1\n",
    "            r = 2\n",
    "            fill = 'orange'\n",
    "        # alignment nodes\n",
    "        else:\n",
    "            node_group = 2\n",
    "            r = 2\n",
    "            fill = 'red'\n",
    "\n",
    "        cx = node_coordinate[node_id][0]\n",
    "        cy = node_coordinate[node_id][1]\n",
    "        node = [node_id, node_group, cx, cy, r, fill]\n",
    "        nodelist.append(node)\n",
    "\n",
    "    # start of linelist generation\n",
    "    linelist = G.edges\n",
    "\n",
    "    return G, nodelist, linelist\n",
    "        "
   ]
  },
  {
   "cell_type": "code",
   "execution_count": 88,
   "metadata": {},
   "outputs": [],
   "source": [
    "num = 2\n",
    "with open(f\"main_data_folder/orthogonal/output_n6e12/output_graphn6e12s150i{num}planar.json\", \"rb\") as f:\n",
    "    data = json.load(f)\n",
    "\n",
    "G,_,_ = create_graph(data)\n"
   ]
  },
  {
   "cell_type": "code",
   "execution_count": 89,
   "metadata": {},
   "outputs": [],
   "source": [
    "import networkx as nx\n",
    "\n",
    "# Create your planar graph (add nodes and edges)\n",
    "# G = nx.Graph()\n",
    "# Add nodes and edges to the graph...\n",
    "\n",
    "# Check if the graph is planar\n",
    "is_planar, embedding = nx.check_planarity(G)\n"
   ]
  },
  {
   "cell_type": "code",
   "execution_count": 90,
   "metadata": {},
   "outputs": [
    {
     "data": {
      "text/plain": [
       "4"
      ]
     },
     "execution_count": 90,
     "metadata": {},
     "output_type": "execute_result"
    }
   ],
   "source": [
    "len(embedding[0])"
   ]
  },
  {
   "cell_type": "code",
   "execution_count": 91,
   "metadata": {},
   "outputs": [
    {
     "data": {
      "text/plain": [
       "{'ori': {'id': 0,\n",
       "  'nodelist': [[0, 0, 80.1444444444, 100.35, 5, 'blue'],\n",
       "   [1, 0, 80.1444444444, 60.15, 5, 'blue'],\n",
       "   [2, 0, 80.1444444444, 80.25, 5, 'blue'],\n",
       "   [3, 0, 40.05, 60.1055555556, 5, 'blue'],\n",
       "   [4, 0, 120.2388888889, 60.1055555556, 5, 'blue'],\n",
       "   [5, 0, 80.1444444444, 40.05, 5, 'blue'],\n",
       "   [6, 1, 20.0, 100.3444444444, 2, 'orange'],\n",
       "   [7, 1, 20.0, 60.1, 2, 'orange'],\n",
       "   [8, 1, 40.0444444444, 80.2555555556, 2, 'orange'],\n",
       "   [9, 1, 120.2444444444, 80.2555555556, 2, 'orange'],\n",
       "   [10, 1, 120.2444444444, 20.0, 2, 'orange'],\n",
       "   [11, 1, 40.0444444444, 20.0, 2, 'orange'],\n",
       "   [12, 1, 140.2888888889, 60.1, 2, 'orange'],\n",
       "   [13, 1, 140.2888888889, 100.3444444444, 2, 'orange'],\n",
       "   [14, 1, 100.1888888889, 60.0777777778, 2, 'orange'],\n",
       "   [15, 1, 100.1888888889, 40.0777777778, 2, 'orange'],\n",
       "   [16, 1, 60.1, 60.0777777778, 2, 'orange'],\n",
       "   [17, 1, 60.1, 40.0777777778, 2, 'orange']],\n",
       "  'linelist': [(0, 6),\n",
       "   (0, 2),\n",
       "   (0, 13),\n",
       "   (1, 2),\n",
       "   (1, 3),\n",
       "   (1, 5),\n",
       "   (1, 4),\n",
       "   (2, 1),\n",
       "   (2, 0),\n",
       "   (2, 8),\n",
       "   (2, 9),\n",
       "   (3, 7),\n",
       "   (3, 1),\n",
       "   (3, 8),\n",
       "   (3, 11),\n",
       "   (3, 16),\n",
       "   (4, 9),\n",
       "   (4, 10),\n",
       "   (4, 12),\n",
       "   (4, 14),\n",
       "   (4, 1),\n",
       "   (5, 15),\n",
       "   (5, 1),\n",
       "   (5, 17),\n",
       "   (6, 0),\n",
       "   (6, 7),\n",
       "   (7, 6),\n",
       "   (7, 3),\n",
       "   (8, 3),\n",
       "   (8, 2),\n",
       "   (9, 2),\n",
       "   (9, 4),\n",
       "   (10, 4),\n",
       "   (10, 11),\n",
       "   (11, 10),\n",
       "   (11, 3),\n",
       "   (12, 4),\n",
       "   (12, 13),\n",
       "   (13, 12),\n",
       "   (13, 0),\n",
       "   (14, 4),\n",
       "   (14, 15),\n",
       "   (15, 14),\n",
       "   (15, 5),\n",
       "   (16, 3),\n",
       "   (16, 17),\n",
       "   (17, 16),\n",
       "   (17, 5)],\n",
       "  'height': 1000,\n",
       "  'width': 1000},\n",
       " 'x': array([[1, 1, 0, 0, 0, 0, 0, 0, 0, 0, 0, 0, 0, 0, 0, 0, 0, 0, 0, 0, 0, 0,\n",
       "         0, 0, 0, 0, 0, 0, 0, 0, 0, 0, 0, 0, 0, 0, 0, 0, 0, 0, 0, 0, 0, 0,\n",
       "         0, 0, 0, 0, 0],\n",
       "        [1, 0, 1, 0, 0, 0, 0, 0, 0, 0, 0, 0, 0, 0, 0, 0, 0, 0, 0, 0, 0, 0,\n",
       "         0, 0, 0, 0, 0, 0, 0, 0, 0, 0, 0, 0, 0, 0, 0, 0, 0, 0, 0, 0, 0, 0,\n",
       "         0, 0, 0, 0, 0],\n",
       "        [1, 0, 0, 1, 0, 0, 0, 0, 0, 0, 0, 0, 0, 0, 0, 0, 0, 0, 0, 0, 0, 0,\n",
       "         0, 0, 0, 0, 0, 0, 0, 0, 0, 0, 0, 0, 0, 0, 0, 0, 0, 0, 0, 0, 0, 0,\n",
       "         0, 0, 0, 0, 0],\n",
       "        [1, 0, 0, 0, 1, 0, 0, 0, 0, 0, 0, 0, 0, 0, 0, 0, 0, 0, 0, 0, 0, 0,\n",
       "         0, 0, 0, 0, 0, 0, 0, 0, 0, 0, 0, 0, 0, 0, 0, 0, 0, 0, 0, 0, 0, 0,\n",
       "         0, 0, 0, 0, 0],\n",
       "        [1, 0, 0, 0, 0, 1, 0, 0, 0, 0, 0, 0, 0, 0, 0, 0, 0, 0, 0, 0, 0, 0,\n",
       "         0, 0, 0, 0, 0, 0, 0, 0, 0, 0, 0, 0, 0, 0, 0, 0, 0, 0, 0, 0, 0, 0,\n",
       "         0, 0, 0, 0, 0],\n",
       "        [1, 0, 0, 0, 0, 0, 1, 0, 0, 0, 0, 0, 0, 0, 0, 0, 0, 0, 0, 0, 0, 0,\n",
       "         0, 0, 0, 0, 0, 0, 0, 0, 0, 0, 0, 0, 0, 0, 0, 0, 0, 0, 0, 0, 0, 0,\n",
       "         0, 0, 0, 0, 0],\n",
       "        [1, 0, 0, 0, 0, 0, 0, 1, 0, 0, 0, 0, 0, 0, 0, 0, 0, 0, 0, 0, 0, 0,\n",
       "         0, 0, 0, 0, 0, 0, 0, 0, 0, 0, 0, 0, 0, 0, 0, 0, 0, 0, 0, 0, 0, 0,\n",
       "         0, 0, 0, 0, 0],\n",
       "        [1, 0, 0, 0, 0, 0, 0, 0, 1, 0, 0, 0, 0, 0, 0, 0, 0, 0, 0, 0, 0, 0,\n",
       "         0, 0, 0, 0, 0, 0, 0, 0, 0, 0, 0, 0, 0, 0, 0, 0, 0, 0, 0, 0, 0, 0,\n",
       "         0, 0, 0, 0, 0],\n",
       "        [1, 0, 0, 0, 0, 0, 0, 0, 0, 1, 0, 0, 0, 0, 0, 0, 0, 0, 0, 0, 0, 0,\n",
       "         0, 0, 0, 0, 0, 0, 0, 0, 0, 0, 0, 0, 0, 0, 0, 0, 0, 0, 0, 0, 0, 0,\n",
       "         0, 0, 0, 0, 0],\n",
       "        [1, 0, 0, 0, 0, 0, 0, 0, 0, 0, 1, 0, 0, 0, 0, 0, 0, 0, 0, 0, 0, 0,\n",
       "         0, 0, 0, 0, 0, 0, 0, 0, 0, 0, 0, 0, 0, 0, 0, 0, 0, 0, 0, 0, 0, 0,\n",
       "         0, 0, 0, 0, 0],\n",
       "        [1, 0, 0, 0, 0, 0, 0, 0, 0, 0, 0, 1, 0, 0, 0, 0, 0, 0, 0, 0, 0, 0,\n",
       "         0, 0, 0, 0, 0, 0, 0, 0, 0, 0, 0, 0, 0, 0, 0, 0, 0, 0, 0, 0, 0, 0,\n",
       "         0, 0, 0, 0, 0],\n",
       "        [1, 0, 0, 0, 0, 0, 0, 0, 0, 0, 0, 0, 1, 0, 0, 0, 0, 0, 0, 0, 0, 0,\n",
       "         0, 0, 0, 0, 0, 0, 0, 0, 0, 0, 0, 0, 0, 0, 0, 0, 0, 0, 0, 0, 0, 0,\n",
       "         0, 0, 0, 0, 0],\n",
       "        [1, 0, 0, 0, 0, 0, 0, 0, 0, 0, 0, 0, 0, 1, 0, 0, 0, 0, 0, 0, 0, 0,\n",
       "         0, 0, 0, 0, 0, 0, 0, 0, 0, 0, 0, 0, 0, 0, 0, 0, 0, 0, 0, 0, 0, 0,\n",
       "         0, 0, 0, 0, 0],\n",
       "        [1, 0, 0, 0, 0, 0, 0, 0, 0, 0, 0, 0, 0, 0, 1, 0, 0, 0, 0, 0, 0, 0,\n",
       "         0, 0, 0, 0, 0, 0, 0, 0, 0, 0, 0, 0, 0, 0, 0, 0, 0, 0, 0, 0, 0, 0,\n",
       "         0, 0, 0, 0, 0],\n",
       "        [1, 0, 0, 0, 0, 0, 0, 0, 0, 0, 0, 0, 0, 0, 0, 1, 0, 0, 0, 0, 0, 0,\n",
       "         0, 0, 0, 0, 0, 0, 0, 0, 0, 0, 0, 0, 0, 0, 0, 0, 0, 0, 0, 0, 0, 0,\n",
       "         0, 0, 0, 0, 0],\n",
       "        [1, 0, 0, 0, 0, 0, 0, 0, 0, 0, 0, 0, 0, 0, 0, 0, 1, 0, 0, 0, 0, 0,\n",
       "         0, 0, 0, 0, 0, 0, 0, 0, 0, 0, 0, 0, 0, 0, 0, 0, 0, 0, 0, 0, 0, 0,\n",
       "         0, 0, 0, 0, 0],\n",
       "        [1, 0, 0, 0, 0, 0, 0, 0, 0, 0, 0, 0, 0, 0, 0, 0, 0, 1, 0, 0, 0, 0,\n",
       "         0, 0, 0, 0, 0, 0, 0, 0, 0, 0, 0, 0, 0, 0, 0, 0, 0, 0, 0, 0, 0, 0,\n",
       "         0, 0, 0, 0, 0],\n",
       "        [1, 0, 0, 0, 0, 0, 0, 0, 0, 0, 0, 0, 0, 0, 0, 0, 0, 0, 1, 0, 0, 0,\n",
       "         0, 0, 0, 0, 0, 0, 0, 0, 0, 0, 0, 0, 0, 0, 0, 0, 0, 0, 0, 0, 0, 0,\n",
       "         0, 0, 0, 0, 0]]),\n",
       " 'x_idx': [1, 2, 3, 5, 4, 0, 8, 9, 7, 11, 16, 15, 17, 10, 12, 14, 6, 13],\n",
       " 'x_ridx': [5, 0, 1, 2, 4, 3, 16, 8, 6, 7, 13, 9, 14, 17, 15, 11, 10, 12],\n",
       " 'pos': array([[0.08436257, 0.06331579],\n",
       "        [0.08436257, 0.08447368],\n",
       "        [0.04215789, 0.06326901],\n",
       "        [0.08436257, 0.04215789],\n",
       "        [0.12656725, 0.06326901],\n",
       "        [0.08436257, 0.10563158],\n",
       "        [0.04215205, 0.08447953],\n",
       "        [0.1265731 , 0.08447953],\n",
       "        [0.02105263, 0.06326316],\n",
       "        [0.04215205, 0.02105263],\n",
       "        [0.06326316, 0.06323977],\n",
       "        [0.10546199, 0.04218713],\n",
       "        [0.06326316, 0.04218713],\n",
       "        [0.1265731 , 0.02105263],\n",
       "        [0.14767251, 0.06326316],\n",
       "        [0.10546199, 0.06323977],\n",
       "        [0.02105263, 0.10562573],\n",
       "        [0.14767251, 0.10562573]]),\n",
       " 'len': 18,\n",
       " 'adj': array([[0., 0., 1., 0., 0., 0., 1., 0., 0., 0., 0., 0., 0., 1., 0., 0.,\n",
       "         0., 0.],\n",
       "        [0., 0., 1., 1., 1., 1., 0., 0., 0., 0., 0., 0., 0., 0., 0., 0.,\n",
       "         0., 0.],\n",
       "        [1., 1., 0., 0., 0., 0., 0., 0., 1., 1., 0., 0., 0., 0., 0., 0.,\n",
       "         0., 0.],\n",
       "        [0., 1., 0., 0., 0., 0., 0., 1., 1., 0., 0., 1., 0., 0., 0., 0.,\n",
       "         1., 0.],\n",
       "        [0., 1., 0., 0., 0., 0., 0., 0., 0., 1., 1., 0., 1., 0., 1., 0.,\n",
       "         0., 0.],\n",
       "        [0., 1., 0., 0., 0., 0., 0., 0., 0., 0., 0., 0., 0., 0., 0., 1.,\n",
       "         0., 1.],\n",
       "        [1., 0., 0., 0., 0., 0., 0., 1., 0., 0., 0., 0., 0., 0., 0., 0.,\n",
       "         0., 0.],\n",
       "        [0., 0., 0., 1., 0., 0., 1., 0., 0., 0., 0., 0., 0., 0., 0., 0.,\n",
       "         0., 0.],\n",
       "        [0., 0., 1., 1., 0., 0., 0., 0., 0., 0., 0., 0., 0., 0., 0., 0.,\n",
       "         0., 0.],\n",
       "        [0., 0., 1., 0., 1., 0., 0., 0., 0., 0., 0., 0., 0., 0., 0., 0.,\n",
       "         0., 0.],\n",
       "        [0., 0., 0., 0., 1., 0., 0., 0., 0., 0., 0., 1., 0., 0., 0., 0.,\n",
       "         0., 0.],\n",
       "        [0., 0., 0., 1., 0., 0., 0., 0., 0., 0., 1., 0., 0., 0., 0., 0.,\n",
       "         0., 0.],\n",
       "        [0., 0., 0., 0., 1., 0., 0., 0., 0., 0., 0., 0., 0., 1., 0., 0.,\n",
       "         0., 0.],\n",
       "        [1., 0., 0., 0., 0., 0., 0., 0., 0., 0., 0., 0., 1., 0., 0., 0.,\n",
       "         0., 0.],\n",
       "        [0., 0., 0., 0., 1., 0., 0., 0., 0., 0., 0., 0., 0., 0., 0., 1.,\n",
       "         0., 0.],\n",
       "        [0., 0., 0., 0., 0., 1., 0., 0., 0., 0., 0., 0., 0., 0., 1., 0.,\n",
       "         0., 0.],\n",
       "        [0., 0., 0., 1., 0., 0., 0., 0., 0., 0., 0., 0., 0., 0., 0., 0.,\n",
       "         0., 1.],\n",
       "        [0., 0., 0., 0., 0., 1., 0., 0., 0., 0., 0., 0., 0., 0., 0., 0.,\n",
       "         1., 0.]]),\n",
       " 'graph': defaultdict(list,\n",
       "             {0: [6, 2, 13],\n",
       "              1: [2, 3, 5, 4],\n",
       "              2: [1, 0, 8, 9],\n",
       "              3: [7, 1, 8, 11, 16],\n",
       "              4: [9, 10, 12, 14, 1],\n",
       "              5: [15, 1, 17],\n",
       "              6: [0, 7],\n",
       "              7: [6, 3],\n",
       "              8: [3, 2],\n",
       "              9: [2, 4],\n",
       "              10: [4, 11],\n",
       "              11: [10, 3],\n",
       "              12: [4, 13],\n",
       "              13: [12, 0],\n",
       "              14: [4, 15],\n",
       "              15: [14, 5],\n",
       "              16: [3, 17],\n",
       "              17: [16, 5]})}"
      ]
     },
     "execution_count": 91,
     "metadata": {},
     "output_type": "execute_result"
    }
   ],
   "source": [
    "g"
   ]
  },
  {
   "cell_type": "code",
   "execution_count": null,
   "metadata": {},
   "outputs": [],
   "source": []
  }
 ],
 "metadata": {
  "kernelspec": {
   "display_name": "Python 3",
   "language": "python",
   "name": "python3"
  },
  "language_info": {
   "codemirror_mode": {
    "name": "ipython",
    "version": 3
   },
   "file_extension": ".py",
   "mimetype": "text/x-python",
   "name": "python",
   "nbconvert_exporter": "python",
   "pygments_lexer": "ipython3",
   "version": "3.10.12"
  },
  "orig_nbformat": 4
 },
 "nbformat": 4,
 "nbformat_minor": 2
}
