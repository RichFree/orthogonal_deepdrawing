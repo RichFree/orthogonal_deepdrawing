{
 "cells": [
  {
   "cell_type": "markdown",
   "id": "4a236860",
   "metadata": {},
   "source": [
    "# Import pickle file"
   ]
  },
  {
   "cell_type": "code",
   "execution_count": 1,
   "id": "0d0a57d4-42af-4352-ac35-b7b2add0add8",
   "metadata": {},
   "outputs": [],
   "source": [
    "import os\n",
    "import pickle as pkl\n"
   ]
  },
  {
   "cell_type": "code",
   "execution_count": 179,
   "id": "9b107773-98d3-4806-a97c-51549af113a2",
   "metadata": {},
   "outputs": [],
   "source": [
    "object1 = {}\n",
    "with open(\"data/ortho_test_dataset_folder_preprocess/output_graphn3e4s150i81\",\"rb\") as f:\n",
    "    object1 = pkl.load(f)\n"
   ]
  },
  {
   "cell_type": "code",
   "execution_count": 180,
   "id": "717af9d8-1b7f-4172-ba3f-b83bf21198fe",
   "metadata": {},
   "outputs": [
    {
     "data": {
      "text/plain": [
       "{'ori': {'id': 80,\n",
       "  'nodelist': [[0, 0, 110.0, 66.6666666667, 5, 'blue'],\n",
       "   [1, 0, 30.0, 68.8888888889, 5, 'blue'],\n",
       "   [2, 0, 30.0, 30.0, 5, 'blue'],\n",
       "   [3, 1, 40.0, 73.3333333333, 2, 'orange'],\n",
       "   [4, 1, 30.0, 68.8888888889, 2, 'orange'],\n",
       "   [5, 1, 31.1111111111, 40.0, 2, 'orange'],\n",
       "   [6, 1, 40.0, 28.8888888889, 2, 'orange'],\n",
       "   [7, 1, 108.8888888889, 28.8888888889, 2, 'orange'],\n",
       "   [8, 1, 108.8888888889, 57.7777777778, 2, 'orange'],\n",
       "   [9, 1, 40.0, 62.2222222222, 2, 'orange'],\n",
       "   [10, 1, 30.0, 68.8888888889, 2, 'orange']],\n",
       "  'linelist': OutEdgeView([(0, 3), (0, 9), (1, 5), (2, 6), (3, 4), (4, 1), (5, 2), (6, 7), (7, 8), (8, 0), (9, 10), (10, 1)]),\n",
       "  'height': 1000,\n",
       "  'width': 1000},\n",
       " 'x': array([[1, 1, 0, 0, 0, 0, 0, 0, 0, 0, 0, 0, 0, 0, 0, 0, 0, 0, 0, 0, 0, 0,\n",
       "         0, 0, 0, 0, 0, 0, 0, 0, 0, 0, 0, 0, 0, 0, 0, 0, 0, 0, 0, 0, 0, 0,\n",
       "         0, 0, 0, 0, 0],\n",
       "        [1, 0, 1, 0, 0, 0, 0, 0, 0, 0, 0, 0, 0, 0, 0, 0, 0, 0, 0, 0, 0, 0,\n",
       "         0, 0, 0, 0, 0, 0, 0, 0, 0, 0, 0, 0, 0, 0, 0, 0, 0, 0, 0, 0, 0, 0,\n",
       "         0, 0, 0, 0, 0],\n",
       "        [1, 0, 0, 1, 0, 0, 0, 0, 0, 0, 0, 0, 0, 0, 0, 0, 0, 0, 0, 0, 0, 0,\n",
       "         0, 0, 0, 0, 0, 0, 0, 0, 0, 0, 0, 0, 0, 0, 0, 0, 0, 0, 0, 0, 0, 0,\n",
       "         0, 0, 0, 0, 0],\n",
       "        [1, 0, 0, 0, 1, 0, 0, 0, 0, 0, 0, 0, 0, 0, 0, 0, 0, 0, 0, 0, 0, 0,\n",
       "         0, 0, 0, 0, 0, 0, 0, 0, 0, 0, 0, 0, 0, 0, 0, 0, 0, 0, 0, 0, 0, 0,\n",
       "         0, 0, 0, 0, 0],\n",
       "        [1, 0, 0, 0, 0, 1, 0, 0, 0, 0, 0, 0, 0, 0, 0, 0, 0, 0, 0, 0, 0, 0,\n",
       "         0, 0, 0, 0, 0, 0, 0, 0, 0, 0, 0, 0, 0, 0, 0, 0, 0, 0, 0, 0, 0, 0,\n",
       "         0, 0, 0, 0, 0],\n",
       "        [1, 0, 0, 0, 0, 0, 1, 0, 0, 0, 0, 0, 0, 0, 0, 0, 0, 0, 0, 0, 0, 0,\n",
       "         0, 0, 0, 0, 0, 0, 0, 0, 0, 0, 0, 0, 0, 0, 0, 0, 0, 0, 0, 0, 0, 0,\n",
       "         0, 0, 0, 0, 0],\n",
       "        [1, 0, 0, 0, 0, 0, 0, 1, 0, 0, 0, 0, 0, 0, 0, 0, 0, 0, 0, 0, 0, 0,\n",
       "         0, 0, 0, 0, 0, 0, 0, 0, 0, 0, 0, 0, 0, 0, 0, 0, 0, 0, 0, 0, 0, 0,\n",
       "         0, 0, 0, 0, 0],\n",
       "        [1, 0, 0, 0, 0, 0, 0, 0, 1, 0, 0, 0, 0, 0, 0, 0, 0, 0, 0, 0, 0, 0,\n",
       "         0, 0, 0, 0, 0, 0, 0, 0, 0, 0, 0, 0, 0, 0, 0, 0, 0, 0, 0, 0, 0, 0,\n",
       "         0, 0, 0, 0, 0],\n",
       "        [1, 0, 0, 0, 0, 0, 0, 0, 0, 1, 0, 0, 0, 0, 0, 0, 0, 0, 0, 0, 0, 0,\n",
       "         0, 0, 0, 0, 0, 0, 0, 0, 0, 0, 0, 0, 0, 0, 0, 0, 0, 0, 0, 0, 0, 0,\n",
       "         0, 0, 0, 0, 0],\n",
       "        [1, 0, 0, 0, 0, 0, 0, 0, 0, 0, 1, 0, 0, 0, 0, 0, 0, 0, 0, 0, 0, 0,\n",
       "         0, 0, 0, 0, 0, 0, 0, 0, 0, 0, 0, 0, 0, 0, 0, 0, 0, 0, 0, 0, 0, 0,\n",
       "         0, 0, 0, 0, 0],\n",
       "        [1, 0, 0, 0, 0, 0, 0, 0, 0, 0, 0, 1, 0, 0, 0, 0, 0, 0, 0, 0, 0, 0,\n",
       "         0, 0, 0, 0, 0, 0, 0, 0, 0, 0, 0, 0, 0, 0, 0, 0, 0, 0, 0, 0, 0, 0,\n",
       "         0, 0, 0, 0, 0]]),\n",
       " 'x_idx': [0, 3, 9, 4, 10, 1, 5, 2, 6, 7, 8],\n",
       " 'x_ridx': [0, 5, 7, 1, 3, 6, 8, 9, 10, 2, 4],\n",
       " 'pos': array([[0.11578947, 0.07017544],\n",
       "        [0.04210526, 0.07719298],\n",
       "        [0.04210526, 0.06549708],\n",
       "        [0.03157895, 0.07251462],\n",
       "        [0.03157895, 0.07251462],\n",
       "        [0.03157895, 0.07251462],\n",
       "        [0.03274854, 0.04210526],\n",
       "        [0.03157895, 0.03157895],\n",
       "        [0.04210526, 0.03040936],\n",
       "        [0.11461988, 0.03040936],\n",
       "        [0.11461988, 0.06081871]]),\n",
       " 'len': 11,\n",
       " 'adj': array([[0., 0., 0., 1., 0., 0., 0., 0., 0., 1., 0.],\n",
       "        [0., 0., 0., 0., 0., 1., 0., 0., 0., 0., 0.],\n",
       "        [0., 0., 0., 0., 0., 0., 1., 0., 0., 0., 0.],\n",
       "        [0., 0., 0., 0., 1., 0., 0., 0., 0., 0., 0.],\n",
       "        [0., 1., 0., 0., 0., 0., 0., 0., 0., 0., 0.],\n",
       "        [0., 0., 1., 0., 0., 0., 0., 0., 0., 0., 0.],\n",
       "        [0., 0., 0., 0., 0., 0., 0., 1., 0., 0., 0.],\n",
       "        [0., 0., 0., 0., 0., 0., 0., 0., 1., 0., 0.],\n",
       "        [1., 0., 0., 0., 0., 0., 0., 0., 0., 0., 0.],\n",
       "        [0., 0., 0., 0., 0., 0., 0., 0., 0., 0., 1.],\n",
       "        [0., 1., 0., 0., 0., 0., 0., 0., 0., 0., 0.]]),\n",
       " 'graph': defaultdict(list,\n",
       "             {0: [3, 9],\n",
       "              1: [5],\n",
       "              2: [6],\n",
       "              3: [4],\n",
       "              4: [1],\n",
       "              5: [2],\n",
       "              6: [7],\n",
       "              7: [8],\n",
       "              8: [0],\n",
       "              9: [10],\n",
       "              10: [1]})}"
      ]
     },
     "execution_count": 180,
     "metadata": {},
     "output_type": "execute_result"
    }
   ],
   "source": [
    "object1"
   ]
  },
  {
   "cell_type": "markdown",
   "id": "bb18861c",
   "metadata": {},
   "source": [
    "Analysis of pickle data:\n",
    "\n",
    "## core attribute\n",
    "\n",
    "ori : { graph topological information }\n",
    "\n",
    "graph topological information includes:\n",
    "\n",
    "id, nodelist, linelist, width, height,\n",
    "\n",
    "id: 0\n",
    "\n",
    "nodelist: [node_id, node_group, cx, cy, r, fill]\n",
    "\n",
    "node_id: number representing the node\n",
    "\n",
    "node_group: which node group - just set 0\n",
    "\n",
    "cx: x coordinate of node\n",
    "\n",
    "cy: y coordinate of node\n",
    "\n",
    "r: radius of node\n",
    "\n",
    "fill: color of node\n",
    "\n"
   ]
  },
  {
   "cell_type": "markdown",
   "id": "b321f4de",
   "metadata": {},
   "source": [
    "# Import JSON file representation of orthogonal"
   ]
  },
  {
   "cell_type": "code",
   "execution_count": 181,
   "id": "0d930508-2d90-4e73-8e66-275d00991c04",
   "metadata": {},
   "outputs": [],
   "source": [
    "import json\n",
    "\n",
    "data = json.load(open('orthogonal/output_n3e4/output_graphn3e4s150i81.json'))"
   ]
  },
  {
   "cell_type": "code",
   "execution_count": 182,
   "id": "44b3f728",
   "metadata": {},
   "outputs": [
    {
     "data": {
      "text/plain": [
       "{'nodes': [{'id': 0, 'x': 110.0, 'y': 66.6666666667, 'w': 20.0, 'h': 20.0},\n",
       "  {'id': 1, 'x': 30.0, 'y': 68.8888888889, 'w': 20.0, 'h': 20.0},\n",
       "  {'id': 2, 'x': 30.0, 'y': 30.0, 'w': 20.0, 'h': 20.0}],\n",
       " 'edges': [{'source': 0,\n",
       "   'target': 1,\n",
       "   'arrow': 'last',\n",
       "   'path': [[100.0, 73.3333333333],\n",
       "    [40.0, 73.3333333333],\n",
       "    [30.0, 68.8888888889]]},\n",
       "  {'source': 1,\n",
       "   'target': 2,\n",
       "   'arrow': 'last',\n",
       "   'path': [[31.1111111111, 60.0], [31.1111111111, 40.0]]},\n",
       "  {'source': 2,\n",
       "   'target': 0,\n",
       "   'arrow': 'last',\n",
       "   'path': [[30.0, 30.0],\n",
       "    [40.0, 28.8888888889],\n",
       "    [108.8888888889, 28.8888888889],\n",
       "    [108.8888888889, 57.7777777778]]},\n",
       "  {'source': 0,\n",
       "   'target': 1,\n",
       "   'arrow': 'last',\n",
       "   'path': [[100.0, 62.2222222222],\n",
       "    [40.0, 62.2222222222],\n",
       "    [30.0, 68.8888888889]]}]}"
      ]
     },
     "execution_count": 182,
     "metadata": {},
     "output_type": "execute_result"
    }
   ],
   "source": [
    "data"
   ]
  },
  {
   "cell_type": "code",
   "execution_count": 140,
   "id": "4b1f1d9d",
   "metadata": {},
   "outputs": [
    {
     "name": "stdout",
     "output_type": "stream",
     "text": [
      "157.3684210526 369.4736842105\n",
      "70.0 450.0\n",
      "40.5263157895 639.4736842105\n",
      "203.6842105263 443.6842105263\n",
      "157.3684210526 96.3157894737\n",
      "122.6315789474 639.4736842105\n",
      "237.3684210526 170.0\n",
      "277.3684210526 210.0\n",
      "438.4210526316 539.4736842105\n",
      "157.3684210526 210.0\n",
      "398.4210526316 539.4736842105\n",
      "451.0526315789 90.0\n",
      "197.3684210526 369.4736842105\n",
      "340.5263157895 453.1578947368\n",
      "424.7368421053 439.4736842105\n",
      "40.5263157895 679.4736842105\n",
      "420.5263157895 379.4736842105\n",
      "237.3684210526 290.0\n",
      "170.0 283.6842105263\n",
      "300.5263157895 416.3157894737\n",
      "237.3684210526 250.0\n",
      "237.3684210526 90.0\n",
      "237.3684210526 130.0\n",
      "340.5263157895 413.1578947368\n",
      "82.6315789474 639.4736842105\n",
      "197.3684210526 210.0\n",
      "237.3684210526 210.0\n",
      "231.0526315789 330.0\n",
      "411.0526315789 499.4736842105\n"
     ]
    }
   ],
   "source": [
    "# example of getting individual nodes\n",
    "for i in data['nodes']:\n",
    "    print(i['x'], i['y'])"
   ]
  },
  {
   "cell_type": "markdown",
   "id": "d3dd94b0",
   "metadata": {},
   "source": [
    "Networkx-based method to construct orthogonal graph nodes"
   ]
  },
  {
   "cell_type": "code",
   "execution_count": 183,
   "id": "5227e544",
   "metadata": {},
   "outputs": [],
   "source": [
    "import networkx as nx \n",
    "import matplotlib.pyplot as plt"
   ]
  },
  {
   "cell_type": "code",
   "execution_count": 189,
   "id": "b49bd606",
   "metadata": {},
   "outputs": [],
   "source": [
    "G = nx.DiGraph()"
   ]
  },
  {
   "cell_type": "code",
   "execution_count": 190,
   "id": "133d1c8c",
   "metadata": {},
   "outputs": [],
   "source": [
    "node_coordinate = {}\n",
    "# first, add the real nodes\n",
    "for node_obj in data['nodes']:\n",
    "  id = node_obj['id']\n",
    "  G.add_node(id)\n",
    "  node_coordinate[id] = (node_obj['x'], node_obj['y'], 0)"
   ]
  },
  {
   "cell_type": "markdown",
   "id": "72066694",
   "metadata": {},
   "source": [
    "## node reduction "
   ]
  },
  {
   "cell_type": "markdown",
   "id": "bb3bfd36",
   "metadata": {},
   "source": [
    "Idea: find 90 degree bends and make them the canonical bend nodes"
   ]
  },
  {
   "cell_type": "code",
   "execution_count": 250,
   "id": "ec61bd0b",
   "metadata": {},
   "outputs": [],
   "source": [
    "edge_path = data['edges']"
   ]
  },
  {
   "cell_type": "code",
   "execution_count": 251,
   "id": "50b3149e",
   "metadata": {},
   "outputs": [
    {
     "data": {
      "text/plain": [
       "[{'source': 0,\n",
       "  'target': 1,\n",
       "  'arrow': 'last',\n",
       "  'path': [[100.0, 73.3333333333],\n",
       "   [40.0, 73.3333333333],\n",
       "   [30.0, 68.8888888889]]},\n",
       " {'source': 1,\n",
       "  'target': 2,\n",
       "  'arrow': 'last',\n",
       "  'path': [[31.1111111111, 60.0], [31.1111111111, 40.0]]},\n",
       " {'source': 2,\n",
       "  'target': 0,\n",
       "  'arrow': 'last',\n",
       "  'path': [[30.0, 30.0],\n",
       "   [40.0, 28.8888888889],\n",
       "   [108.8888888889, 28.8888888889],\n",
       "   [108.8888888889, 57.7777777778]]},\n",
       " {'source': 0,\n",
       "  'target': 1,\n",
       "  'arrow': 'last',\n",
       "  'path': [[100.0, 62.2222222222],\n",
       "   [40.0, 62.2222222222],\n",
       "   [30.0, 68.8888888889]]}]"
      ]
     },
     "execution_count": 251,
     "metadata": {},
     "output_type": "execute_result"
    }
   ],
   "source": [
    "edge_path"
   ]
  },
  {
   "cell_type": "code",
   "execution_count": 252,
   "id": "5bb0f3e7",
   "metadata": {},
   "outputs": [],
   "source": [
    "import math"
   ]
  },
  {
   "cell_type": "code",
   "execution_count": 256,
   "id": "44947fcd",
   "metadata": {},
   "outputs": [],
   "source": [
    "def get_direction(edge):\n",
    "    node1 = edge[0]\n",
    "    node2 = edge[1]\n",
    "\n",
    "    if abs(node1[0] - node2[0]) < 0.1:\n",
    "        return \"vertical\"\n",
    "    elif abs(node1[1] - node2[1]) < 0.1:\n",
    "        return \"horizontal\"\n",
    "    else:\n",
    "        return \"don't know\""
   ]
  },
  {
   "cell_type": "code",
   "execution_count": 273,
   "id": "d46a7879",
   "metadata": {},
   "outputs": [],
   "source": [
    "def get_bend_points(edge_path):\n",
    "    bend_points = []\n",
    "    prev_direction = \"\"\n",
    "    for i in range(len(edge_path)):\n",
    "        # exit condition\n",
    "        if (i == len(edge_path) - 1):\n",
    "            break;\n",
    "        \n",
    "        # compute current edge direction\n",
    "        current_path = (edge_path[i], edge_path[i+1])\n",
    "        direction = get_direction(current_path)\n",
    "        print(current_path, direction)\n",
    "        print(prev_direction, direction)\n",
    "    \n",
    "        if (i == 0):\n",
    "            prev_direction = direction\n",
    "        if (i > 0):\n",
    "            if ((prev_direction == \"vertical\" and direction == \"horizontal\") or \n",
    "                (prev_direction == \"horizontal\" and direction == \"vertical\")):\n",
    "                print(\"added\")\n",
    "                bend_points.append(edge_path[i])\n",
    "            # set the current direction to be prev for next iteration\n",
    "            prev_direction = direction\n",
    "\n",
    "    return bend_points\n",
    "        \n"
   ]
  },
  {
   "cell_type": "code",
   "execution_count": 274,
   "id": "a30e4dbc",
   "metadata": {},
   "outputs": [
    {
     "name": "stdout",
     "output_type": "stream",
     "text": [
      "([30.0, 30.0], [40.0, 28.8888888889]) don't know\n",
      " don't know\n",
      "([40.0, 28.8888888889], [108.8888888889, 28.8888888889]) horizontal\n",
      "don't know horizontal\n",
      "([108.8888888889, 28.8888888889], [108.8888888889, 57.7777777778]) vertical\n",
      "horizontal vertical\n",
      "added\n"
     ]
    },
    {
     "data": {
      "text/plain": [
       "[[108.8888888889, 28.8888888889]]"
      ]
     },
     "execution_count": 274,
     "metadata": {},
     "output_type": "execute_result"
    }
   ],
   "source": [
    "i = 2\n",
    "get_bend_points(data['edges'][i]['path'])"
   ]
  },
  {
   "cell_type": "markdown",
   "id": "11380463",
   "metadata": {},
   "source": [
    "Old attempt to use direction markers to reduce nodes"
   ]
  },
  {
   "cell_type": "code",
   "execution_count": 203,
   "id": "55885b24",
   "metadata": {},
   "outputs": [],
   "source": [
    "# issue: many nodes on the same line introduces needless noise\n",
    "\n",
    "edge_path = data['edges'][0]['path']"
   ]
  },
  {
   "cell_type": "code",
   "execution_count": 206,
   "id": "33e4f778",
   "metadata": {},
   "outputs": [],
   "source": [
    "i = 0\n",
    "start_edge = (edge_path[i], edge_path[i+1])\n"
   ]
  },
  {
   "cell_type": "code",
   "execution_count": 210,
   "id": "5f71381e",
   "metadata": {},
   "outputs": [
    {
     "data": {
      "text/plain": [
       "([100.0, 73.3333333333], [40.0, 73.3333333333])"
      ]
     },
     "execution_count": 210,
     "metadata": {},
     "output_type": "execute_result"
    }
   ],
   "source": [
    "start_edge"
   ]
  },
  {
   "cell_type": "code",
   "execution_count": 224,
   "id": "2f54a90d",
   "metadata": {},
   "outputs": [],
   "source": [
    "def compute_direction(edge):\n",
    "    vertical   = edge[0][1] - edge[1][1]\n",
    "    horizontal = edge[0][0] - edge[1][0]\n",
    "\n",
    "    thres = 0.1\n",
    "    if (vertical < thres and vertical > -thres):\n",
    "        vertical = 0\n",
    "    if (horizontal < thres and horizontal > -thres):\n",
    "        horizontal = 0\n",
    "\n",
    "\n",
    "    if (vertical > 0 and horizontal == 0):\n",
    "        return \"up\"\n",
    "    elif (vertical < 0 and horizontal == 0):\n",
    "        return \"down\"\n",
    "    elif (vertical == 0 and horizontal < 0):\n",
    "        return \"right\"\n",
    "    elif (vertical == 0 and horizontal > 0):\n",
    "        return \"left\"\n",
    "    else:\n",
    "        return \"no direction\"\n",
    "\n"
   ]
  },
  {
   "cell_type": "code",
   "execution_count": 228,
   "id": "5bf1a150",
   "metadata": {},
   "outputs": [
    {
     "name": "stdout",
     "output_type": "stream",
     "text": [
      "left\n"
     ]
    }
   ],
   "source": [
    "edge = ([0,0], [0,0])\n",
    "print(compute_direction(edge))"
   ]
  },
  {
   "cell_type": "code",
   "execution_count": 191,
   "id": "1ac4b125",
   "metadata": {},
   "outputs": [],
   "source": [
    "# create virtual nodes to split an edge\n",
    "node_counter = G.number_of_nodes() - 1\n",
    "for edge in data['edges']:\n",
    "    source = edge['source']\n",
    "    target = edge['target']\n",
    "    # coordinates includes start point and end point\n",
    "    num_points = len(edge['path'])\n",
    "    # connect from real node to first intermediate node\n",
    "    inter = source\n",
    "    for i in range(num_points):\n",
    "        # special consideration for the last edge\n",
    "        node_counter = node_counter + 1\n",
    "        G.add_node(node_counter)\n",
    "        if (i == 0 or i == num_points-1):\n",
    "            node_coordinate[node_counter] = (edge['path'][i][0], edge['path'][i][1], 2)\n",
    "        else:\n",
    "            node_coordinate[node_counter] = (edge['path'][i][0], edge['path'][i][1], 1)\n",
    "        G.add_edge(inter, node_counter)\n",
    "        inter = node_counter\n",
    "    # connect from last intermediate node to target\n",
    "    G.add_edge(inter, target)\n",
    "\n"
   ]
  },
  {
   "cell_type": "markdown",
   "id": "e49e24da",
   "metadata": {},
   "source": [
    "Diagnostics"
   ]
  },
  {
   "cell_type": "code",
   "execution_count": 145,
   "id": "134a6482",
   "metadata": {},
   "outputs": [
    {
     "data": {
      "text/plain": [
       "[(11, 36),\n",
       " (11, 37),\n",
       " (11, 39),\n",
       " (11, 42),\n",
       " (11, 45),\n",
       " (11, 47),\n",
       " (11, 50),\n",
       " (11, 28)]"
      ]
     },
     "execution_count": 145,
     "metadata": {},
     "output_type": "execute_result"
    }
   ],
   "source": [
    "[ line for line in linelist if (line[0] == 11 or line[1] == 11)]"
   ]
  },
  {
   "cell_type": "code",
   "execution_count": 146,
   "id": "39d37830",
   "metadata": {},
   "outputs": [
    {
     "data": {
      "text/plain": [
       "[(11, 36), (36, 3)]"
      ]
     },
     "execution_count": 146,
     "metadata": {},
     "output_type": "execute_result"
    }
   ],
   "source": [
    "[ line for line in linelist if (line[0] == 36 or line[1] == 36)]"
   ]
  },
  {
   "cell_type": "code",
   "execution_count": 147,
   "id": "75429b6c",
   "metadata": {},
   "outputs": [
    {
     "data": {
      "text/plain": [
       "(203.6842105263, 443.6842105263)"
      ]
     },
     "execution_count": 147,
     "metadata": {},
     "output_type": "execute_result"
    }
   ],
   "source": [
    "node_coordinate[3]"
   ]
  },
  {
   "cell_type": "code",
   "execution_count": 148,
   "id": "9a7fd408",
   "metadata": {},
   "outputs": [
    {
     "data": {
      "text/plain": [
       "[164.2105263158, 220.0]"
      ]
     },
     "execution_count": 148,
     "metadata": {},
     "output_type": "execute_result"
    }
   ],
   "source": [
    "node_coordinate[36]"
   ]
  },
  {
   "cell_type": "code",
   "execution_count": 149,
   "id": "008dc70f",
   "metadata": {},
   "outputs": [
    {
     "data": {
      "text/plain": [
       "(451.0526315789, 90.0)"
      ]
     },
     "execution_count": 149,
     "metadata": {},
     "output_type": "execute_result"
    }
   ],
   "source": [
    "node_coordinate[11]"
   ]
  },
  {
   "cell_type": "markdown",
   "id": "b53bc399",
   "metadata": {},
   "source": [
    "# Core Attribute"
   ]
  },
  {
   "cell_type": "code",
   "execution_count": 192,
   "id": "e9991e84",
   "metadata": {},
   "outputs": [],
   "source": [
    "nodelist = []\n",
    "\n",
    "for node_id in G.nodes:\n",
    "    # main nodes\n",
    "    if node_coordinate[node_id][2] == 0:\n",
    "        node_group = 0\n",
    "        r = 5\n",
    "        fill = 'blue'\n",
    "    # bend nodes\n",
    "    elif node_coordinate[node_id][2] == 1:\n",
    "        node_group = 1\n",
    "        r = 5\n",
    "        fill = 'orange'\n",
    "    # alignment nodes\n",
    "    else:\n",
    "        node_group = 2\n",
    "        r = 2\n",
    "        fill = 'red'\n",
    "\n",
    "    cx = node_coordinate[node_id][0]\n",
    "    cy = node_coordinate[node_id][1]\n",
    "    node = [node_id, node_group, cx, cy, r, fill]\n",
    "    nodelist.append(node)"
   ]
  },
  {
   "cell_type": "code",
   "execution_count": 174,
   "id": "2aa8e685",
   "metadata": {},
   "outputs": [],
   "source": [
    "# nodelist"
   ]
  },
  {
   "cell_type": "code",
   "execution_count": 193,
   "id": "9459a5ea",
   "metadata": {},
   "outputs": [
    {
     "name": "stdout",
     "output_type": "stream",
     "text": [
      "[(0, 3), (0, 12), (1, 6), (2, 8), (3, 4), (4, 5), (5, 1), (6, 7), (7, 2), (8, 9), (9, 10), (10, 11), (11, 0), (12, 13), (13, 14), (14, 1)]\n"
     ]
    }
   ],
   "source": [
    "linelist = G.edges\n",
    "print(linelist)"
   ]
  },
  {
   "cell_type": "code",
   "execution_count": 194,
   "id": "480da161",
   "metadata": {},
   "outputs": [],
   "source": [
    "ori = {}\n",
    "\n",
    "ori['id'] = 0\n",
    "ori['nodelist'] = nodelist\n",
    "ori['linelist'] = linelist\n",
    "ori['width'] = 1113\n",
    "ori['height'] = 717\n"
   ]
  },
  {
   "cell_type": "markdown",
   "id": "5eaf4fab",
   "metadata": {},
   "source": [
    "# Visualize"
   ]
  },
  {
   "cell_type": "code",
   "execution_count": 195,
   "id": "98f35341",
   "metadata": {},
   "outputs": [],
   "source": [
    "from utils import *"
   ]
  },
  {
   "cell_type": "code",
   "execution_count": 196,
   "id": "8cf82042",
   "metadata": {},
   "outputs": [],
   "source": [
    "# visualize(None, ori=object1['ori'], name=\"test\", test_folder=\".\")\n",
    "visualize(None, ori=ori, name=\"test\", test_folder=\".\")"
   ]
  },
  {
   "cell_type": "markdown",
   "id": "fb5d117a",
   "metadata": {},
   "source": [
    "The above proves that only the 'ori' section of the pickle data is relevant to producing a drawing."
   ]
  },
  {
   "cell_type": "markdown",
   "id": "ae9b777d",
   "metadata": {},
   "source": []
  }
 ],
 "metadata": {
  "kernelspec": {
   "display_name": "Python 3 (ipykernel)",
   "language": "python",
   "name": "python3"
  },
  "language_info": {
   "codemirror_mode": {
    "name": "ipython",
    "version": 3
   },
   "file_extension": ".py",
   "mimetype": "text/x-python",
   "name": "python",
   "nbconvert_exporter": "python",
   "pygments_lexer": "ipython3",
   "version": "3.10.12"
  }
 },
 "nbformat": 4,
 "nbformat_minor": 5
}
